{
 "cells": [
  {
   "cell_type": "code",
   "execution_count": 13,
   "metadata": {},
   "outputs": [
    {
     "name": "stdout",
     "output_type": "stream",
     "text": [
      "Collecting scikit-learn\n",
      "  Downloading scikit_learn-1.5.1-cp311-cp311-win_amd64.whl.metadata (12 kB)\n",
      "Requirement already satisfied: numpy>=1.19.5 in c:\\users\\harsh\\appdata\\local\\packages\\pythonsoftwarefoundation.python.3.11_qbz5n2kfra8p0\\localcache\\local-packages\\python311\\site-packages (from scikit-learn) (1.24.3)\n",
      "Requirement already satisfied: scipy>=1.6.0 in c:\\users\\harsh\\appdata\\local\\packages\\pythonsoftwarefoundation.python.3.11_qbz5n2kfra8p0\\localcache\\local-packages\\python311\\site-packages (from scikit-learn) (1.14.0)\n",
      "Collecting joblib>=1.2.0 (from scikit-learn)\n",
      "  Using cached joblib-1.4.2-py3-none-any.whl.metadata (5.4 kB)\n",
      "Collecting threadpoolctl>=3.1.0 (from scikit-learn)\n",
      "  Using cached threadpoolctl-3.5.0-py3-none-any.whl.metadata (13 kB)\n",
      "Downloading scikit_learn-1.5.1-cp311-cp311-win_amd64.whl (11.0 MB)\n",
      "   ---------------------------------------- 0.0/11.0 MB ? eta -:--:--\n",
      "   ---------------------------------------- 0.0/11.0 MB ? eta -:--:--\n",
      "   ---------------------------------------- 0.0/11.0 MB ? eta -:--:--\n",
      "   ---------------------------------------- 0.0/11.0 MB ? eta -:--:--\n",
      "   ---------------------------------------- 0.0/11.0 MB 325.1 kB/s eta 0:00:34\n",
      "   ---------------------------------------- 0.0/11.0 MB 326.8 kB/s eta 0:00:34\n",
      "   ---------------------------------------- 0.1/11.0 MB 798.9 kB/s eta 0:00:14\n",
      "    --------------------------------------- 0.3/11.0 MB 1.4 MB/s eta 0:00:08\n",
      "   - -------------------------------------- 0.3/11.0 MB 1.3 MB/s eta 0:00:09\n",
      "   - -------------------------------------- 0.5/11.0 MB 1.8 MB/s eta 0:00:06\n",
      "   -- ------------------------------------- 0.7/11.0 MB 2.0 MB/s eta 0:00:06\n",
      "   --- ------------------------------------ 1.0/11.0 MB 2.6 MB/s eta 0:00:04\n",
      "   ---- ----------------------------------- 1.2/11.0 MB 3.0 MB/s eta 0:00:04\n",
      "   ----- ---------------------------------- 1.5/11.0 MB 3.1 MB/s eta 0:00:04\n",
      "   ------ --------------------------------- 1.8/11.0 MB 3.4 MB/s eta 0:00:03\n",
      "   ------- -------------------------------- 2.2/11.0 MB 3.8 MB/s eta 0:00:03\n",
      "   -------- ------------------------------- 2.4/11.0 MB 3.9 MB/s eta 0:00:03\n",
      "   --------- ------------------------------ 2.7/11.0 MB 4.0 MB/s eta 0:00:03\n",
      "   ---------- ----------------------------- 3.0/11.0 MB 4.1 MB/s eta 0:00:02\n",
      "   ------------ --------------------------- 3.3/11.0 MB 4.4 MB/s eta 0:00:02\n",
      "   ------------- -------------------------- 3.7/11.0 MB 4.6 MB/s eta 0:00:02\n",
      "   -------------- ------------------------- 3.9/11.0 MB 4.6 MB/s eta 0:00:02\n",
      "   --------------- ------------------------ 4.2/11.0 MB 4.7 MB/s eta 0:00:02\n",
      "   ---------------- ----------------------- 4.5/11.0 MB 4.7 MB/s eta 0:00:02\n",
      "   ----------------- ---------------------- 4.9/11.0 MB 4.8 MB/s eta 0:00:02\n",
      "   ------------------- -------------------- 5.3/11.0 MB 5.0 MB/s eta 0:00:02\n",
      "   -------------------- ------------------- 5.6/11.0 MB 5.0 MB/s eta 0:00:02\n",
      "   --------------------- ------------------ 5.9/11.0 MB 5.1 MB/s eta 0:00:01\n",
      "   ---------------------- ----------------- 6.2/11.0 MB 5.2 MB/s eta 0:00:01\n",
      "   ----------------------- ---------------- 6.5/11.0 MB 5.2 MB/s eta 0:00:01\n",
      "   ------------------------- -------------- 6.9/11.0 MB 5.3 MB/s eta 0:00:01\n",
      "   -------------------------- ------------- 7.2/11.0 MB 5.4 MB/s eta 0:00:01\n",
      "   --------------------------- ------------ 7.5/11.0 MB 5.4 MB/s eta 0:00:01\n",
      "   ---------------------------- ----------- 7.9/11.0 MB 5.5 MB/s eta 0:00:01\n",
      "   ------------------------------ --------- 8.3/11.0 MB 5.5 MB/s eta 0:00:01\n",
      "   ------------------------------- -------- 8.7/11.0 MB 5.6 MB/s eta 0:00:01\n",
      "   -------------------------------- ------- 9.0/11.0 MB 5.7 MB/s eta 0:00:01\n",
      "   ---------------------------------- ----- 9.4/11.0 MB 5.7 MB/s eta 0:00:01\n",
      "   ---------------------------------- ----- 9.5/11.0 MB 5.6 MB/s eta 0:00:01\n",
      "   ----------------------------------- ---- 9.9/11.0 MB 5.7 MB/s eta 0:00:01\n",
      "   ------------------------------------- -- 10.2/11.0 MB 5.7 MB/s eta 0:00:01\n",
      "   ------------------------------------- -- 10.4/11.0 MB 6.2 MB/s eta 0:00:01\n",
      "   ---------------------------------------  10.8/11.0 MB 6.5 MB/s eta 0:00:01\n",
      "   ---------------------------------------  11.0/11.0 MB 6.6 MB/s eta 0:00:01\n",
      "   ---------------------------------------- 11.0/11.0 MB 6.4 MB/s eta 0:00:00\n",
      "Using cached joblib-1.4.2-py3-none-any.whl (301 kB)\n",
      "Using cached threadpoolctl-3.5.0-py3-none-any.whl (18 kB)\n",
      "Installing collected packages: threadpoolctl, joblib, scikit-learn\n",
      "Successfully installed joblib-1.4.2 scikit-learn-1.5.1 threadpoolctl-3.5.0\n"
     ]
    },
    {
     "name": "stderr",
     "output_type": "stream",
     "text": [
      "\n",
      "[notice] A new release of pip is available: 24.0 -> 24.1.1\n",
      "[notice] To update, run: C:\\Users\\Harsh\\AppData\\Local\\Microsoft\\WindowsApps\\PythonSoftwareFoundation.Python.3.11_qbz5n2kfra8p0\\python.exe -m pip install --upgrade pip\n"
     ]
    }
   ],
   "source": [
    "!pip install scikit-learn"
   ]
  },
  {
   "cell_type": "code",
   "execution_count": 14,
   "metadata": {},
   "outputs": [],
   "source": [
    "import cv2\n",
    "import matplotlib.pyplot as plt\n",
    "import numpy as np\n",
    "from  sklearn.cluster import KMeans"
   ]
  },
  {
   "cell_type": "code",
   "execution_count": 15,
   "metadata": {},
   "outputs": [],
   "source": [
    "image_path = \"../output_videos/cropped_image.jpg\"\n",
    "image = cv2.imread(image_path)\n",
    "image = cv2.cvtColor(image, cv2.COLOR_BGR2RGB)\n"
   ]
  },
  {
   "cell_type": "code",
   "execution_count": 16,
   "metadata": {},
   "outputs": [
    {
     "data": {
      "image/png": "[encoded data removed]",
      "text/plain": [
       "<Figure size 640x480 with 1 Axes>"
      ]
     },
     "metadata": {},
     "output_type": "display_data"
    }
   ],
   "source": [
    "plt.imshow(image)\n",
    "plt.show()"
   ]
  },
  {
   "cell_type": "markdown",
   "metadata": {},
   "source": [
    "# Take the top half of the image\n"
   ]
  },
  {
   "cell_type": "code",
   "execution_count": 17,
   "metadata": {},
   "outputs": [
    {
     "data": {
      "image/png": "[encoded data removed]",
      "text/plain": [
       "<Figure size 640x480 with 1 Axes>"
      ]
     },
     "metadata": {},
     "output_type": "display_data"
    }
   ],
   "source": [
    "top_half_image = image[0: int(image.shape[0]/2), :]\n",
    "plt.imshow(top_half_image)\n",
    "plt.show()"
   ]
  },
  {
   "cell_type": "code",
   "execution_count": null,
   "metadata": {},
   "outputs": [],
   "source": []
  },
  {
   "cell_type": "markdown",
   "metadata": {},
   "source": [
    "# Cluster  the image into two clusters"
   ]
  },
  {
   "cell_type": "code",
   "execution_count": 20,
   "metadata": {},
   "outputs": [
    {
     "data": {
      "image/png": "[encoded data removed]",
      "text/plain": [
       "<Figure size 640x480 with 1 Axes>"
      ]
     },
     "metadata": {},
     "output_type": "display_data"
    }
   ],
   "source": [
    "# Reshape the image into 2D array\n",
    "image_2d = top_half_image.reshape(-1, 3)\n",
    "\n",
    "\n",
    "# Perform k-means clustering with 2 clusters\n",
    "kmeans = KMeans(n_clusters=2, random_state=0).fit(image_2d)\n",
    "\n",
    "# Get the cluster labels\n",
    "labels = kmeans.labels_\n",
    "\n",
    "# Reshape the labels intto original image shape\n",
    "clustered_image = labels.reshape(top_half_image.shape[0], top_half_image.shape[1])\n",
    "\n",
    "\n",
    "# Display the clustered image\n",
    "plt.imshow(clustered_image)\n",
    "plt.show()"
   ]
  },
  {
   "cell_type": "code",
   "execution_count": 21,
   "metadata": {},
   "outputs": [
    {
     "name": "stdout",
     "output_type": "stream",
     "text": [
      "0\n"
     ]
    }
   ],
   "source": [
    "corner_clusters = [clustered_image[0, 0], clustered_image[0, -1], clustered_image[-1, 0], clustered_image[-1, -1]]\n",
    "non_player_cluster = max(set(corner_clusters), key=corner_clusters.count)\n",
    "print(non_player_cluster)"
   ]
  },
  {
   "cell_type": "code",
   "execution_count": 22,
   "metadata": {},
   "outputs": [
    {
     "name": "stdout",
     "output_type": "stream",
     "text": [
      "1\n"
     ]
    }
   ],
   "source": [
    "player_cluster = 1 - non_player_cluster\n",
    "print(player_cluster)"
   ]
  },
  {
   "cell_type": "code",
   "execution_count": 23,
   "metadata": {},
   "outputs": [
    {
     "data": {
      "text/plain": [
       "array([235.37043478, 239.10956522, 238.62956522])"
      ]
     },
     "execution_count": 23,
     "metadata": {},
     "output_type": "execute_result"
    }
   ],
   "source": [
    "kmeans.cluster_centers_[player_cluster]"
   ]
  },
  {
   "cell_type": "code",
   "execution_count": null,
   "metadata": {},
   "outputs": [],
   "source": []
  },
  {
   "cell_type": "code",
   "execution_count": null,
   "metadata": {},
   "outputs": [],
   "source": []
  }
 ],
 "metadata": {
  "kernelspec": {
   "display_name": "Python 3",
   "language": "python",
   "name": "python3"
  },
  "language_info": {
   "codemirror_mode": {
    "name": "ipython",
    "version": 3
   },
   "file_extension": ".py",
   "mimetype": "text/x-python",
   "name": "python",
   "nbconvert_exporter": "python",
   "pygments_lexer": "ipython3",
   "version": "3.11.9"
  }
 },
 "nbformat": 4,
 "nbformat_minor": 2
}
